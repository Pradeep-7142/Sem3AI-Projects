{
 "cells": [
  {
   "cell_type": "markdown",
   "metadata": {},
   "source": [
    "Solving K queen Problem"
   ]
  },
  {
   "cell_type": "code",
   "execution_count": 3,
   "metadata": {},
   "outputs": [
    {
     "name": "stdout",
     "output_type": "stream",
     "text": [
      "Q . . . . . .\n",
      ". . . . Q . .\n",
      ". Q . . . . .\n",
      ". . . . . Q .\n",
      ". . Q . . . .\n",
      ". . . . . . Q\n",
      ". . . Q . . .\n"
     ]
    }
   ],
   "source": [
    "k = int(input(\"Enter the size of the board: \"))\n",
    "arr = [[\".\" for i in range(k)] for j in range(k)]  \n",
    "put = 'Q'\n",
    "\n",
    "def isSafe(grid, row, col, put):\n",
    "    # Check row on the left side\n",
    "    for x in range(col):  # Only check columns to the left\n",
    "        if grid[row][x] == put:\n",
    "            return False\n",
    "\n",
    "    # Check upper diagonal on the left side\n",
    "    i, j = row, col\n",
    "    while i >= 0 and j >= 0:\n",
    "        if grid[i][j] == put:\n",
    "            return False\n",
    "        i -= 1\n",
    "        j -= 1\n",
    "\n",
    "    # Check lower diagonal on the left side\n",
    "    i, j = row, col\n",
    "    while i < k and j >= 0:\n",
    "        if grid[i][j] == put:\n",
    "            return False\n",
    "        i += 1\n",
    "        j -= 1\n",
    "\n",
    "    return True\n",
    "\n",
    "def solveQueens(grid, col):\n",
    "    if col >= k:\n",
    "        return True  # If all queens are placed\n",
    "\n",
    "    # Try placing this queen in all rows one by one\n",
    "    for i in range(k):\n",
    "        if isSafe(grid, i, col, put):\n",
    "            grid[i][col] = put  # Place queen\n",
    "\n",
    "            if solveQueens(grid, col + 1):  # Recur to place rest of the queens\n",
    "                return True\n",
    "\n",
    "            grid[i][col] = \".\"  # If placing queen doesn't lead to a solution, backtrack\n",
    "\n",
    "    return False\n",
    "\n",
    "def solve():\n",
    "    if solveQueens(arr, 0):\n",
    "        for row in arr:\n",
    "            print(\" \".join(row))  # Print board in readable format\n",
    "    else:\n",
    "        print(\"No solution found.\")\n",
    "\n",
    "solve()\n"
   ]
  }
 ],
 "metadata": {
  "kernelspec": {
   "display_name": "Python 3",
   "language": "python",
   "name": "python3"
  },
  "language_info": {
   "codemirror_mode": {
    "name": "ipython",
    "version": 3
   },
   "file_extension": ".py",
   "mimetype": "text/x-python",
   "name": "python",
   "nbconvert_exporter": "python",
   "pygments_lexer": "ipython3",
   "version": "3.12.3"
  }
 },
 "nbformat": 4,
 "nbformat_minor": 2
}
