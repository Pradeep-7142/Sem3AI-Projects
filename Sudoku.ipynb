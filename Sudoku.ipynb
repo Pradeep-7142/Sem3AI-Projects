{
 "cells": [
  {
   "cell_type": "code",
   "execution_count": 1,
   "metadata": {},
   "outputs": [
    {
     "name": "stdout",
     "output_type": "stream",
     "text": [
      "3 4 5 8 7 1 2 9 6 \n",
      "7 2 6 3 4 9 5 8 1 \n",
      "8 9 1 2 5 6 7 4 3 \n",
      "4 7 9 1 3 2 8 6 5 \n",
      "5 3 8 7 6 4 1 2 9 \n",
      "1 6 2 5 9 8 3 7 4 \n",
      "9 1 3 4 2 7 6 5 8 \n",
      "6 8 7 9 1 5 4 3 2 \n",
      "2 5 4 6 8 3 9 1 7 \n"
     ]
    }
   ],
   "source": [
    "N = 9\n",
    "def printing(arr):\n",
    "    for i in range(N):\n",
    "        for j in range(N):\n",
    "            print(arr[i][j], end = \" \")\n",
    "        print()\n",
    "\n",
    "def isSafe(grid, row, col, num):\n",
    "  \n",
    "    for x in range(9):\n",
    "        if grid[row][x] == num:\n",
    "            return False\n",
    "\n",
    "    for x in range(9):\n",
    "        if grid[x][col] == num:\n",
    "            return False\n",
    "\n",
    "    startRow = row - row % 3\n",
    "    startCol = col - col % 3\n",
    "    for i in range(3):\n",
    "        for j in range(3):\n",
    "            if grid[i + startRow][j + startCol] == num:\n",
    "                return False\n",
    "    return True\n",
    "\n",
    "def solveSudoku(grid, row, col):\n",
    "  \n",
    "    if (row == N - 1 and col == N):\n",
    "        return True\n",
    "    \n",
    "    if col == N:\n",
    "        row += 1\n",
    "        col = 0\n",
    "\n",
    "    if grid[row][col] > 0:\n",
    "        return solveSudoku(grid, row, col + 1)\n",
    "    \n",
    "    for num in range(1, N + 1, 1):\n",
    "      \n",
    "        if isSafe(grid, row, col, num):\n",
    "          \n",
    "            grid[row][col] = num\n",
    "\n",
    "            if solveSudoku(grid, row, col + 1):\n",
    "                return True\n",
    "            \n",
    "        grid[row][col] = 0\n",
    "    return False\n",
    "\n",
    "grid = [[0, 0, 0, 0, 0, 0, 0, 9, 6],\n",
    "        [7, 0, 0, 3, 0, 0, 5, 0, 0],\n",
    "        [0, 9, 0, 2, 0, 6, 0, 4, 0],\n",
    "        [4, 7, 0, 0, 3, 0, 0, 0, 5],\n",
    "        [0, 0, 8, 0, 0, 0, 0, 0, 9],\n",
    "        [1, 6, 2, 0, 0, 8, 0, 0, 0],\n",
    "        [0, 0, 0, 0, 2, 7, 0, 0, 8],\n",
    "        [0, 0, 7, 0, 0, 5, 4, 0, 0],\n",
    "        [0, 5, 0, 6, 8, 0, 0, 1, 7]]\n",
    "\n",
    "if (solveSudoku(grid, 0, 0)):\n",
    "    printing(grid)\n",
    "else:\n",
    "    print(\"no solution  exists \")\n",
    "\n",
    "    \n"
   ]
  }
 ],
 "metadata": {
  "kernelspec": {
   "display_name": "Python 3",
   "language": "python",
   "name": "python3"
  },
  "language_info": {
   "codemirror_mode": {
    "name": "ipython",
    "version": 3
   },
   "file_extension": ".py",
   "mimetype": "text/x-python",
   "name": "python",
   "nbconvert_exporter": "python",
   "pygments_lexer": "ipython3",
   "version": "3.12.3"
  }
 },
 "nbformat": 4,
 "nbformat_minor": 2
}
